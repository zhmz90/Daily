{
 "cells": [
  {
   "cell_type": "code",
   "execution_count": 3,
   "metadata": {
    "collapsed": false
   },
   "outputs": [],
   "source": [
    "import numpy as np\n",
    "import tensorflow as tf\n",
    "\n",
    "import matplotlib.pyplot as plt\n",
    "%matplotlib inline\n",
    "plt.rcParams['figure.figsize'] = (10.0, 8.0) # set default size of plots\n",
    "plt.rcParams['image.interpolation'] = 'nearest'\n",
    "plt.rcParams['image.cmap'] = 'gray'\n",
    "\n",
    "# for auto-reloading extenrnal modules\n",
    "# see http://stackoverflow.com/questions/1907993/autoreload-of-modules-in-ipython\n",
    "%load_ext autoreload\n",
    "%autoreload 2"
   ]
  },
  {
   "cell_type": "code",
   "execution_count": 42,
   "metadata": {
    "collapsed": false
   },
   "outputs": [],
   "source": [
    "import read_data\n",
    "tf.set_random_seed(2016)"
   ]
  },
  {
   "cell_type": "code",
   "execution_count": 43,
   "metadata": {
    "collapsed": false
   },
   "outputs": [
    {
     "data": {
      "text/plain": [
       "<tf.Tensor 'input_producer_37_Dequeue:0' shape=() dtype=string>"
      ]
     },
     "execution_count": 43,
     "metadata": {},
     "output_type": "execute_result"
    }
   ],
   "source": [
    "q = read_data.learn_string_input_producer()\n",
    "q"
   ]
  },
  {
   "cell_type": "code",
   "execution_count": 52,
   "metadata": {
    "collapsed": false
   },
   "outputs": [
    {
     "name": "stdout",
     "output_type": "stream",
     "text": [
      "['test2.txt', 'test2.txt', 'test1.txt']\n",
      "['test2.txt', 'test1.txt', 'test2.txt']\n",
      "['test1.txt', 'test2.txt', 'test1.txt']\n",
      "['test2.txt', 'test1.txt', 'test2.txt']\n",
      "['test1.txt', 'test2.txt', 'test1.txt']\n",
      "['test2.txt', 'test1.txt', 'test2.txt']\n",
      "['test2.txt', 'test1.txt', 'test2.txt']\n",
      "['test2.txt', 'test1.txt', 'test1.txt']\n",
      "['test2.txt', 'test1.txt', 'test2.txt']\n",
      "['test1.txt', 'test1.txt', 'test2.txt']\n"
     ]
    }
   ],
   "source": [
    "def main():\n",
    "    tf.reset_default_graph()\n",
    "    q = read_data.learn_string_input_producer()\n",
    "    q1 = q.dequeue()\n",
    "    q2 = q.dequeue()\n",
    "    q3 = q.dequeue()\n",
    "    with tf.Session() as sess:\n",
    "        coord = tf.train.Coordinator()\n",
    "        threads = tf.train.start_queue_runners(coord=coord)\n",
    "        r = sess.run([q1,q2,q3])\n",
    "        print(r)\n",
    "        coord.request_stop()\n",
    "        coord.join(threads)\n",
    "for i in range(10):\n",
    "    main()"
   ]
  },
  {
   "cell_type": "code",
   "execution_count": 47,
   "metadata": {
    "collapsed": false
   },
   "outputs": [],
   "source": [
    "tf.reset_default_graph()"
   ]
  },
  {
   "cell_type": "code",
   "execution_count": null,
   "metadata": {
    "collapsed": true
   },
   "outputs": [],
   "source": []
  }
 ],
 "metadata": {
  "kernelspec": {
   "display_name": "Python 2",
   "language": "python",
   "name": "python2"
  },
  "language_info": {
   "codemirror_mode": {
    "name": "ipython",
    "version": 2
   },
   "file_extension": ".py",
   "mimetype": "text/x-python",
   "name": "python",
   "nbconvert_exporter": "python",
   "pygments_lexer": "ipython2",
   "version": "2.7.11"
  }
 },
 "nbformat": 4,
 "nbformat_minor": 0
}
